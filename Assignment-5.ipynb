{
  "nbformat": 4,
  "nbformat_minor": 0,
  "metadata": {
    "colab": {
      "name": "Copy of EIGHTH.ipynb",
      "version": "0.3.2",
      "provenance": [],
      "collapsed_sections": [],
      "include_colab_link": true
    },
    "kernelspec": {
      "name": "python3",
      "display_name": "Python 3"
    },
    "accelerator": "GPU"
  },
  "cells": [
    {
      "cell_type": "markdown",
      "metadata": {
        "id": "view-in-github",
        "colab_type": "text"
      },
      "source": [
        "<a href=\"https://colab.research.google.com/github/chirag2saraiya/Session-5/blob/master/Assignment-5.ipynb\" target=\"_parent\"><img src=\"https://colab.research.google.com/assets/colab-badge.svg\" alt=\"Open In Colab\"/></a>"
      ]
    },
    {
      "cell_type": "code",
      "metadata": {
        "id": "0SJyVpgSxHt4",
        "colab_type": "code",
        "colab": {}
      },
      "source": [
        "import numpy as np\n",
        "\n",
        "from keras.models import Sequential\n",
        "from keras.layers import Dense, Dropout, Activation, Flatten, Add, BatchNormalization\n",
        "from keras.layers import Convolution2D, MaxPooling2D\n",
        "from keras.utils import np_utils\n",
        "\n",
        "from keras.datasets import mnist\n",
        "from keras.preprocessing.image import ImageDataGenerator\n",
        "from keras.regularizers import l2\n",
        "\n"
      ],
      "execution_count": 0,
      "outputs": []
    },
    {
      "cell_type": "code",
      "metadata": {
        "id": "YlEUplvoxKAT",
        "colab_type": "code",
        "colab": {}
      },
      "source": [
        "(X_train, y_train), (X_test, y_test) = mnist.load_data()\n"
      ],
      "execution_count": 0,
      "outputs": []
    },
    {
      "cell_type": "code",
      "metadata": {
        "id": "I6Y9Va-xxMXG",
        "colab_type": "code",
        "outputId": "e7b038f1-4bc6-4554-f0d9-7d6654c3099d",
        "colab": {
          "base_uri": "https://localhost:8080/",
          "height": 303
        }
      },
      "source": [
        "print (X_train.shape)\n",
        "from matplotlib import pyplot as plt\n",
        "%matplotlib inline\n",
        "plt.imshow(X_train[1])"
      ],
      "execution_count": 75,
      "outputs": [
        {
          "output_type": "stream",
          "text": [
            "(60000, 28, 28)\n"
          ],
          "name": "stdout"
        },
        {
          "output_type": "execute_result",
          "data": {
            "text/plain": [
              "<matplotlib.image.AxesImage at 0x7fd9e748dc50>"
            ]
          },
          "metadata": {
            "tags": []
          },
          "execution_count": 75
        },
        {
          "output_type": "display_data",
          "data": {
            "image/png": "[encoded data removed]",
            "text/plain": [
              "<Figure size 432x288 with 1 Axes>"
            ]
          },
          "metadata": {
            "tags": []
          }
        }
      ]
    },
    {
      "cell_type": "code",
      "metadata": {
        "id": "lxDZxPhhxOgO",
        "colab_type": "code",
        "colab": {}
      },
      "source": [
        "X_train = X_train.reshape(X_train.shape[0], 28, 28,1)\n",
        "X_test = X_test.reshape(X_test.shape[0], 28, 28,1)"
      ],
      "execution_count": 0,
      "outputs": []
    },
    {
      "cell_type": "code",
      "metadata": {
        "id": "3HzMqbTnxQQW",
        "colab_type": "code",
        "colab": {}
      },
      "source": [
        "X_train = X_train.astype('float32')\n",
        "X_test = X_test.astype('float32')\n",
        "X_train /= 255\n",
        "X_test /= 255"
      ],
      "execution_count": 0,
      "outputs": []
    },
    {
      "cell_type": "code",
      "metadata": {
        "id": "7LdYiW6ixR9e",
        "colab_type": "code",
        "colab": {
          "base_uri": "https://localhost:8080/",
          "height": 34
        },
        "outputId": "ead74818-cffa-4200-8364-0076322e5ba2"
      },
      "source": [
        "y_train[:10]\n",
        "Y_train = np_utils.to_categorical(y_train, 10)\n",
        "Y_test = np_utils.to_categorical(y_test, 10)\n",
        "\n",
        "\n",
        "# create generator to standardize images\n",
        "datagen = ImageDataGenerator(featurewise_center=True, featurewise_std_normalization=True)\n",
        "# calculate mean on training dataset\n",
        "datagen.fit(X_train)\n",
        "# prepare an iterators to scale images\n",
        "train_iterator = datagen.flow(X_train, Y_train, batch_size=64)\n",
        "test_iterator = datagen.flow(X_test, Y_test, batch_size=64,shuffle=False)\n",
        "print('Batches train=%d, test=%d' % (len(train_iterator), len(test_iterator)))"
      ],
      "execution_count": 90,
      "outputs": [
        {
          "output_type": "stream",
          "text": [
            "Batches train=938, test=157\n"
          ],
          "name": "stdout"
        }
      ]
    },
    {
      "cell_type": "code",
      "metadata": {
        "id": "rFR0F9j0xVp2",
        "colab_type": "code",
        "outputId": "5dbd78d1-2a46-4211-b9a7-2646a6d71dc8",
        "colab": {
          "base_uri": "https://localhost:8080/",
          "height": 357
        }
      },
      "source": [
        "print(Y_train[:10])\n",
        "print(Y_test[:10])"
      ],
      "execution_count": 66,
      "outputs": [
        {
          "output_type": "stream",
          "text": [
            "[[0. 0. 0. 0. 0. 1. 0. 0. 0. 0.]\n",
            " [1. 0. 0. 0. 0. 0. 0. 0. 0. 0.]\n",
            " [0. 0. 0. 0. 1. 0. 0. 0. 0. 0.]\n",
            " [0. 1. 0. 0. 0. 0. 0. 0. 0. 0.]\n",
            " [0. 0. 0. 0. 0. 0. 0. 0. 0. 1.]\n",
            " [0. 0. 1. 0. 0. 0. 0. 0. 0. 0.]\n",
            " [0. 1. 0. 0. 0. 0. 0. 0. 0. 0.]\n",
            " [0. 0. 0. 1. 0. 0. 0. 0. 0. 0.]\n",
            " [0. 1. 0. 0. 0. 0. 0. 0. 0. 0.]\n",
            " [0. 0. 0. 0. 1. 0. 0. 0. 0. 0.]]\n",
            "[[0. 0. 0. 0. 0. 0. 0. 1. 0. 0.]\n",
            " [0. 0. 1. 0. 0. 0. 0. 0. 0. 0.]\n",
            " [0. 1. 0. 0. 0. 0. 0. 0. 0. 0.]\n",
            " [1. 0. 0. 0. 0. 0. 0. 0. 0. 0.]\n",
            " [0. 0. 0. 0. 1. 0. 0. 0. 0. 0.]\n",
            " [0. 1. 0. 0. 0. 0. 0. 0. 0. 0.]\n",
            " [0. 0. 0. 0. 1. 0. 0. 0. 0. 0.]\n",
            " [0. 0. 0. 0. 0. 0. 0. 0. 0. 1.]\n",
            " [0. 0. 0. 0. 0. 1. 0. 0. 0. 0.]\n",
            " [0. 0. 0. 0. 0. 0. 0. 0. 0. 1.]]\n"
          ],
          "name": "stdout"
        }
      ]
    },
    {
      "cell_type": "code",
      "metadata": {
        "id": "mDpXf4YQxXRm",
        "colab_type": "code",
        "outputId": "d75c1050-93b4-45d1-e542-58d03c8f4515",
        "colab": {
          "base_uri": "https://localhost:8080/",
          "height": 1312
        }
      },
      "source": [
        "from keras.layers import Activation\n",
        "\n",
        "model = Sequential()\n",
        " \n",
        "model.add(Convolution2D(16, 3, 3, activation='relu', input_shape=(28,28,1))) #26 (3x3)\n",
        "model.add(BatchNormalization())\n",
        "model.add(Dropout(0.1))\n",
        "\n",
        "#Adding l2 reguralisation to each layer except last with hyper parameter value as 0.01\n",
        "\n",
        "model.add(Convolution2D(32, 3, 3,kernel_regularizer=l2(0.01), bias_regularizer=l2(0.01))) #24 (5x5)\n",
        "\n",
        "#Using activation after BatchNormalisation\n",
        "\n",
        "model.add(BatchNormalization())\n",
        "model.add(Activation('relu'))\n",
        "model.add(Dropout(0.1))\n",
        "\n",
        "model.add(Convolution2D(10, 1, 1)) #24 (5x5)\n",
        "\n",
        "model.add(MaxPooling2D(pool_size=(2, 2)))#12 (10x10)\n",
        "\n",
        "model.add(Convolution2D(16, 3, 3,kernel_regularizer=l2(0.01), bias_regularizer=l2(0.01)))#10 (12x12)\n",
        "model.add(BatchNormalization())\n",
        "model.add(Activation('relu'))\n",
        "model.add(Dropout(0.1))\n",
        "\n",
        "\n",
        "model.add(Convolution2D(16, 3, 3,kernel_regularizer=l2(0.01), bias_regularizer=l2(0.01)))#8 (14x14)\n",
        "model.add(BatchNormalization())\n",
        "model.add(Activation('relu'))\n",
        "model.add(Dropout(0.1))\n",
        "\n",
        "\n",
        "model.add(Convolution2D(16, 3, 3,kernel_regularizer=l2(0.01), bias_regularizer=l2(0.01)))#6 (16x16)\n",
        "model.add(BatchNormalization())\n",
        "model.add(Activation('relu'))\n",
        "model.add(Dropout(0.1))\n",
        "\n",
        "\n",
        "model.add(Convolution2D(16, 3, 3,kernel_regularizer=l2(0.01), bias_regularizer=l2(0.01)))#4 (18x18)\n",
        "model.add(BatchNormalization())\n",
        "model.add(Activation('relu'))\n",
        "model.add(Dropout(0.1))\n",
        "\n",
        "\n",
        "model.add(Convolution2D(10, 4, 4)) \n",
        "model.add(Dropout(0.1))\n",
        "\n",
        "\n",
        "model.add(Flatten())\n",
        "model.add(Activation('softmax'))\n",
        "\n",
        "\n",
        "model.summary()"
      ],
      "execution_count": 81,
      "outputs": [
        {
          "output_type": "stream",
          "text": [
            "/usr/local/lib/python3.6/dist-packages/ipykernel_launcher.py:5: UserWarning: Update your `Conv2D` call to the Keras 2 API: `Conv2D(16, (3, 3), activation=\"relu\", input_shape=(28, 28, 1...)`\n",
            "  \"\"\"\n",
            "/usr/local/lib/python3.6/dist-packages/ipykernel_launcher.py:11: UserWarning: Update your `Conv2D` call to the Keras 2 API: `Conv2D(32, (3, 3), kernel_regularizer=<keras.reg..., bias_regularizer=<keras.reg...)`\n",
            "  # This is added back by InteractiveShellApp.init_path()\n",
            "/usr/local/lib/python3.6/dist-packages/ipykernel_launcher.py:19: UserWarning: Update your `Conv2D` call to the Keras 2 API: `Conv2D(10, (1, 1))`\n",
            "/usr/local/lib/python3.6/dist-packages/ipykernel_launcher.py:23: UserWarning: Update your `Conv2D` call to the Keras 2 API: `Conv2D(16, (3, 3), kernel_regularizer=<keras.reg..., bias_regularizer=<keras.reg...)`\n",
            "/usr/local/lib/python3.6/dist-packages/ipykernel_launcher.py:29: UserWarning: Update your `Conv2D` call to the Keras 2 API: `Conv2D(16, (3, 3), kernel_regularizer=<keras.reg..., bias_regularizer=<keras.reg...)`\n",
            "/usr/local/lib/python3.6/dist-packages/ipykernel_launcher.py:35: UserWarning: Update your `Conv2D` call to the Keras 2 API: `Conv2D(16, (3, 3), kernel_regularizer=<keras.reg..., bias_regularizer=<keras.reg...)`\n",
            "/usr/local/lib/python3.6/dist-packages/ipykernel_launcher.py:41: UserWarning: Update your `Conv2D` call to the Keras 2 API: `Conv2D(16, (3, 3), kernel_regularizer=<keras.reg..., bias_regularizer=<keras.reg...)`\n"
          ],
          "name": "stderr"
        },
        {
          "output_type": "stream",
          "text": [
            "_________________________________________________________________\n",
            "Layer (type)                 Output Shape              Param #   \n",
            "=================================================================\n",
            "conv2d_25 (Conv2D)           (None, 26, 26, 16)        160       \n",
            "_________________________________________________________________\n",
            "batch_normalization_19 (Batc (None, 26, 26, 16)        64        \n",
            "_________________________________________________________________\n",
            "dropout_22 (Dropout)         (None, 26, 26, 16)        0         \n",
            "_________________________________________________________________\n",
            "conv2d_26 (Conv2D)           (None, 24, 24, 32)        4640      \n",
            "_________________________________________________________________\n",
            "batch_normalization_20 (Batc (None, 24, 24, 32)        128       \n",
            "_________________________________________________________________\n",
            "activation_19 (Activation)   (None, 24, 24, 32)        0         \n",
            "_________________________________________________________________\n",
            "dropout_23 (Dropout)         (None, 24, 24, 32)        0         \n",
            "_________________________________________________________________\n",
            "conv2d_27 (Conv2D)           (None, 24, 24, 10)        330       \n",
            "_________________________________________________________________\n",
            "max_pooling2d_4 (MaxPooling2 (None, 12, 12, 10)        0         \n",
            "_________________________________________________________________\n",
            "conv2d_28 (Conv2D)           (None, 10, 10, 16)        1456      \n",
            "_________________________________________________________________\n",
            "batch_normalization_21 (Batc (None, 10, 10, 16)        64        \n",
            "_________________________________________________________________\n",
            "activation_20 (Activation)   (None, 10, 10, 16)        0         \n",
            "_________________________________________________________________\n",
            "dropout_24 (Dropout)         (None, 10, 10, 16)        0         \n",
            "_________________________________________________________________\n",
            "conv2d_29 (Conv2D)           (None, 8, 8, 16)          2320      \n",
            "_________________________________________________________________\n",
            "batch_normalization_22 (Batc (None, 8, 8, 16)          64        \n",
            "_________________________________________________________________\n",
            "activation_21 (Activation)   (None, 8, 8, 16)          0         \n",
            "_________________________________________________________________\n",
            "dropout_25 (Dropout)         (None, 8, 8, 16)          0         \n",
            "_________________________________________________________________\n",
            "conv2d_30 (Conv2D)           (None, 6, 6, 16)          2320      \n",
            "_________________________________________________________________\n",
            "batch_normalization_23 (Batc (None, 6, 6, 16)          64        \n",
            "_________________________________________________________________\n",
            "activation_22 (Activation)   (None, 6, 6, 16)          0         \n",
            "_________________________________________________________________\n",
            "dropout_26 (Dropout)         (None, 6, 6, 16)          0         \n",
            "_________________________________________________________________\n",
            "conv2d_31 (Conv2D)           (None, 4, 4, 16)          2320      \n",
            "_________________________________________________________________\n",
            "batch_normalization_24 (Batc (None, 4, 4, 16)          64        \n",
            "_________________________________________________________________\n",
            "activation_23 (Activation)   (None, 4, 4, 16)          0         \n",
            "_________________________________________________________________\n",
            "dropout_27 (Dropout)         (None, 4, 4, 16)          0         \n",
            "_________________________________________________________________\n",
            "conv2d_32 (Conv2D)           (None, 1, 1, 10)          2570      \n",
            "_________________________________________________________________\n",
            "dropout_28 (Dropout)         (None, 1, 1, 10)          0         \n",
            "_________________________________________________________________\n",
            "flatten_4 (Flatten)          (None, 10)                0         \n",
            "_________________________________________________________________\n",
            "activation_24 (Activation)   (None, 10)                0         \n",
            "=================================================================\n",
            "Total params: 16,564\n",
            "Trainable params: 16,340\n",
            "Non-trainable params: 224\n",
            "_________________________________________________________________\n"
          ],
          "name": "stdout"
        },
        {
          "output_type": "stream",
          "text": [
            "/usr/local/lib/python3.6/dist-packages/ipykernel_launcher.py:47: UserWarning: Update your `Conv2D` call to the Keras 2 API: `Conv2D(10, (4, 4))`\n"
          ],
          "name": "stderr"
        }
      ]
    },
    {
      "cell_type": "code",
      "metadata": {
        "id": "X5VNzU8lzsVh",
        "colab_type": "code",
        "outputId": "4f476b5d-215b-4867-9c53-75538a711d49",
        "colab": {
          "base_uri": "https://localhost:8080/",
          "height": 34
        }
      },
      "source": [
        "#Mounting google drive in colab to save model and misclassified image\n",
        "\n",
        "from google.colab import drive\n",
        "drive.mount('/content/gdrive')"
      ],
      "execution_count": 30,
      "outputs": [
        {
          "output_type": "stream",
          "text": [
            "Drive already mounted at /content/gdrive; to attempt to forcibly remount, call drive.mount(\"/content/gdrive\", force_remount=True).\n"
          ],
          "name": "stdout"
        }
      ]
    },
    {
      "cell_type": "code",
      "metadata": {
        "id": "L2IicGJ4x3Be",
        "colab_type": "code",
        "outputId": "48acd6ca-8eca-4fd5-ed52-15e452ae2375",
        "colab": {
          "base_uri": "https://localhost:8080/",
          "height": 2754
        }
      },
      "source": [
        "\n",
        "from keras.optimizers import Adam\n",
        "from keras.callbacks import LearningRateScheduler\n",
        "from keras.callbacks import ModelCheckpoint\n",
        "\n",
        "\n",
        "\n",
        "model.compile(optimizer='adam', loss='categorical_crossentropy', metrics=['accuracy'])\n",
        "\n",
        "\n",
        "\n",
        "#We will save our trained best model on disk .. We will store the model in the HDF5 file format\n",
        "\n",
        "filepath=F\"/content/gdrive/My Drive/weights.best.hdf5\"\n",
        "\n",
        "#Saving a Keras checkpoint:\n",
        "#Keras provides a set of functions called callbacks: you can think of callbacks as events that will be triggered at certain training states. \n",
        "#The callback we need for checkpointing is the ModelCheckpoint which provides all the features we need according to the checkpointing strategy we adopted in our example.\n",
        "\n",
        "checkpoint = ModelCheckpoint(filepath, monitor='val_acc', verbose=1, save_best_only=True, mode='max')\n",
        "\n",
        "#Trains the model for a fixed number of epochs .\n",
        "model.fit_generator(train_iterator,\n",
        "          epochs=40,\n",
        "          steps_per_epoch=len(train_iterator),\n",
        "          verbose=1,\n",
        "          validation_data= test_iterator,\n",
        "          validation_steps = len(test_iterator),\n",
        "          callbacks=[checkpoint]\n",
        "          )\n",
        "\n"
      ],
      "execution_count": 82,
      "outputs": [
        {
          "output_type": "stream",
          "text": [
            "Epoch 1/40\n",
            "938/938 [==============================] - 34s 37ms/step - loss: 0.7790 - acc: 0.8679 - val_loss: 0.3193 - val_acc: 0.9455\n",
            "\n",
            "Epoch 00001: val_acc improved from -inf to 0.94550, saving model to /content/gdrive/My Drive/weights.best.hdf5\n",
            "Epoch 2/40\n",
            "938/938 [==============================] - 16s 17ms/step - loss: 0.2546 - acc: 0.9369 - val_loss: 0.1411 - val_acc: 0.9766\n",
            "\n",
            "Epoch 00002: val_acc improved from 0.94550 to 0.97660, saving model to /content/gdrive/My Drive/weights.best.hdf5\n",
            "Epoch 3/40\n",
            "938/938 [==============================] - 16s 17ms/step - loss: 0.2109 - acc: 0.9418 - val_loss: 0.1271 - val_acc: 0.9800\n",
            "\n",
            "Epoch 00003: val_acc improved from 0.97660 to 0.98000, saving model to /content/gdrive/My Drive/weights.best.hdf5\n",
            "Epoch 4/40\n",
            "938/938 [==============================] - 16s 17ms/step - loss: 0.1980 - acc: 0.9426 - val_loss: 0.1036 - val_acc: 0.9862\n",
            "\n",
            "Epoch 00004: val_acc improved from 0.98000 to 0.98620, saving model to /content/gdrive/My Drive/weights.best.hdf5\n",
            "Epoch 5/40\n",
            "938/938 [==============================] - 16s 17ms/step - loss: 0.1934 - acc: 0.9433 - val_loss: 0.1106 - val_acc: 0.9846\n",
            "\n",
            "Epoch 00005: val_acc did not improve from 0.98620\n",
            "Epoch 6/40\n",
            "938/938 [==============================] - 17s 19ms/step - loss: 0.1884 - acc: 0.9453 - val_loss: 0.1102 - val_acc: 0.9823\n",
            "\n",
            "Epoch 00006: val_acc did not improve from 0.98620\n",
            "Epoch 7/40\n",
            "938/938 [==============================] - 16s 17ms/step - loss: 0.1877 - acc: 0.9445 - val_loss: 0.1135 - val_acc: 0.9838\n",
            "\n",
            "Epoch 00007: val_acc did not improve from 0.98620\n",
            "Epoch 8/40\n",
            "938/938 [==============================] - 16s 17ms/step - loss: 0.1802 - acc: 0.9464 - val_loss: 0.1167 - val_acc: 0.9818\n",
            "\n",
            "Epoch 00008: val_acc did not improve from 0.98620\n",
            "Epoch 9/40\n",
            "938/938 [==============================] - 16s 17ms/step - loss: 0.1812 - acc: 0.9461 - val_loss: 0.1032 - val_acc: 0.9856\n",
            "\n",
            "Epoch 00009: val_acc did not improve from 0.98620\n",
            "Epoch 10/40\n",
            "938/938 [==============================] - 17s 18ms/step - loss: 0.1804 - acc: 0.9468 - val_loss: 0.1106 - val_acc: 0.9838\n",
            "\n",
            "Epoch 00010: val_acc did not improve from 0.98620\n",
            "Epoch 11/40\n",
            "938/938 [==============================] - 18s 19ms/step - loss: 0.1777 - acc: 0.9469 - val_loss: 0.0907 - val_acc: 0.9879\n",
            "\n",
            "Epoch 00011: val_acc improved from 0.98620 to 0.98790, saving model to /content/gdrive/My Drive/weights.best.hdf5\n",
            "Epoch 12/40\n",
            "938/938 [==============================] - 16s 17ms/step - loss: 0.1788 - acc: 0.9457 - val_loss: 0.0895 - val_acc: 0.9890\n",
            "\n",
            "Epoch 00012: val_acc improved from 0.98790 to 0.98900, saving model to /content/gdrive/My Drive/weights.best.hdf5\n",
            "Epoch 13/40\n",
            "938/938 [==============================] - 16s 17ms/step - loss: 0.1785 - acc: 0.9472 - val_loss: 0.0859 - val_acc: 0.9896\n",
            "\n",
            "Epoch 00013: val_acc improved from 0.98900 to 0.98960, saving model to /content/gdrive/My Drive/weights.best.hdf5\n",
            "Epoch 14/40\n",
            "938/938 [==============================] - 16s 17ms/step - loss: 0.1785 - acc: 0.9459 - val_loss: 0.0941 - val_acc: 0.9880\n",
            "\n",
            "Epoch 00014: val_acc did not improve from 0.98960\n",
            "Epoch 15/40\n",
            "938/938 [==============================] - 17s 18ms/step - loss: 0.1788 - acc: 0.9458 - val_loss: 0.1007 - val_acc: 0.9864\n",
            "\n",
            "Epoch 00015: val_acc did not improve from 0.98960\n",
            "Epoch 16/40\n",
            "938/938 [==============================] - 17s 18ms/step - loss: 0.1777 - acc: 0.9471 - val_loss: 0.0971 - val_acc: 0.9887\n",
            "\n",
            "Epoch 00016: val_acc did not improve from 0.98960\n",
            "Epoch 17/40\n",
            "938/938 [==============================] - 16s 17ms/step - loss: 0.1765 - acc: 0.9478 - val_loss: 0.1036 - val_acc: 0.9864\n",
            "\n",
            "Epoch 00017: val_acc did not improve from 0.98960\n",
            "Epoch 18/40\n",
            "938/938 [==============================] - 16s 17ms/step - loss: 0.1736 - acc: 0.9484 - val_loss: 0.1211 - val_acc: 0.9805\n",
            "\n",
            "Epoch 00018: val_acc did not improve from 0.98960\n",
            "Epoch 19/40\n",
            "938/938 [==============================] - 18s 19ms/step - loss: 0.1773 - acc: 0.9464 - val_loss: 0.0970 - val_acc: 0.9878\n",
            "\n",
            "Epoch 00019: val_acc did not improve from 0.98960\n",
            "Epoch 20/40\n",
            "938/938 [==============================] - 17s 19ms/step - loss: 0.1710 - acc: 0.9489 - val_loss: 0.1053 - val_acc: 0.9829\n",
            "\n",
            "Epoch 00020: val_acc did not improve from 0.98960\n",
            "Epoch 21/40\n",
            "938/938 [==============================] - 16s 17ms/step - loss: 0.1767 - acc: 0.9465 - val_loss: 0.0971 - val_acc: 0.9867\n",
            "\n",
            "Epoch 00021: val_acc did not improve from 0.98960\n",
            "Epoch 22/40\n",
            "938/938 [==============================] - 16s 17ms/step - loss: 0.1747 - acc: 0.9470 - val_loss: 0.0913 - val_acc: 0.9881\n",
            "\n",
            "Epoch 00022: val_acc did not improve from 0.98960\n",
            "Epoch 23/40\n",
            "938/938 [==============================] - 16s 17ms/step - loss: 0.1712 - acc: 0.9484 - val_loss: 0.0914 - val_acc: 0.9878\n",
            "\n",
            "Epoch 00023: val_acc did not improve from 0.98960\n",
            "Epoch 24/40\n",
            "938/938 [==============================] - 16s 17ms/step - loss: 0.1721 - acc: 0.9475 - val_loss: 0.1035 - val_acc: 0.9841\n",
            "\n",
            "Epoch 00024: val_acc did not improve from 0.98960\n",
            "Epoch 25/40\n",
            "938/938 [==============================] - 17s 19ms/step - loss: 0.1723 - acc: 0.9476 - val_loss: 0.0936 - val_acc: 0.9886\n",
            "\n",
            "Epoch 00025: val_acc did not improve from 0.98960\n",
            "Epoch 26/40\n",
            "938/938 [==============================] - 16s 17ms/step - loss: 0.1726 - acc: 0.9477 - val_loss: 0.1037 - val_acc: 0.9863\n",
            "\n",
            "Epoch 00026: val_acc did not improve from 0.98960\n",
            "Epoch 27/40\n",
            "938/938 [==============================] - 16s 17ms/step - loss: 0.1754 - acc: 0.9458 - val_loss: 0.0886 - val_acc: 0.9880\n",
            "\n",
            "Epoch 00027: val_acc did not improve from 0.98960\n",
            "Epoch 28/40\n",
            "938/938 [==============================] - 16s 17ms/step - loss: 0.1707 - acc: 0.9475 - val_loss: 0.1015 - val_acc: 0.9850\n",
            "\n",
            "Epoch 00028: val_acc did not improve from 0.98960\n",
            "Epoch 29/40\n",
            "938/938 [==============================] - 16s 17ms/step - loss: 0.1715 - acc: 0.9484 - val_loss: 0.1019 - val_acc: 0.9842\n",
            "\n",
            "Epoch 00029: val_acc did not improve from 0.98960\n",
            "Epoch 30/40\n",
            "938/938 [==============================] - 18s 19ms/step - loss: 0.1704 - acc: 0.9465 - val_loss: 0.0904 - val_acc: 0.9876\n",
            "\n",
            "Epoch 00030: val_acc did not improve from 0.98960\n",
            "Epoch 31/40\n",
            "938/938 [==============================] - 16s 17ms/step - loss: 0.1705 - acc: 0.9474 - val_loss: 0.0796 - val_acc: 0.9919\n",
            "\n",
            "Epoch 00031: val_acc improved from 0.98960 to 0.99190, saving model to /content/gdrive/My Drive/weights.best.hdf5\n",
            "Epoch 32/40\n",
            "938/938 [==============================] - 16s 17ms/step - loss: 0.1696 - acc: 0.9473 - val_loss: 0.0962 - val_acc: 0.9857\n",
            "\n",
            "Epoch 00032: val_acc did not improve from 0.99190\n",
            "Epoch 33/40\n",
            "938/938 [==============================] - 16s 17ms/step - loss: 0.1707 - acc: 0.9470 - val_loss: 0.0971 - val_acc: 0.9868\n",
            "\n",
            "Epoch 00033: val_acc did not improve from 0.99190\n",
            "Epoch 34/40\n",
            "938/938 [==============================] - 16s 17ms/step - loss: 0.1685 - acc: 0.9488 - val_loss: 0.1035 - val_acc: 0.9850\n",
            "\n",
            "Epoch 00034: val_acc did not improve from 0.99190\n",
            "Epoch 35/40\n",
            "938/938 [==============================] - 17s 18ms/step - loss: 0.1682 - acc: 0.9490 - val_loss: 0.0883 - val_acc: 0.9888\n",
            "\n",
            "Epoch 00035: val_acc did not improve from 0.99190\n",
            "Epoch 36/40\n",
            "938/938 [==============================] - 16s 17ms/step - loss: 0.1661 - acc: 0.9483 - val_loss: 0.0856 - val_acc: 0.9898\n",
            "\n",
            "Epoch 00036: val_acc did not improve from 0.99190\n",
            "Epoch 37/40\n",
            "938/938 [==============================] - 16s 17ms/step - loss: 0.1700 - acc: 0.9461 - val_loss: 0.0880 - val_acc: 0.9888\n",
            "\n",
            "Epoch 00037: val_acc did not improve from 0.99190\n",
            "Epoch 38/40\n",
            "938/938 [==============================] - 18s 19ms/step - loss: 0.1687 - acc: 0.9486 - val_loss: 0.0866 - val_acc: 0.9879\n",
            "\n",
            "Epoch 00038: val_acc did not improve from 0.99190\n",
            "Epoch 39/40\n",
            "938/938 [==============================] - 16s 17ms/step - loss: 0.1687 - acc: 0.9477 - val_loss: 0.0921 - val_acc: 0.9873\n",
            "\n",
            "Epoch 00039: val_acc did not improve from 0.99190\n",
            "Epoch 40/40\n",
            "938/938 [==============================] - 17s 18ms/step - loss: 0.1689 - acc: 0.9467 - val_loss: 0.0947 - val_acc: 0.9859\n",
            "\n",
            "Epoch 00040: val_acc did not improve from 0.99190\n"
          ],
          "name": "stdout"
        },
        {
          "output_type": "execute_result",
          "data": {
            "text/plain": [
              "<keras.callbacks.History at 0x7fd9e75449e8>"
            ]
          },
          "metadata": {
            "tags": []
          },
          "execution_count": 82
        }
      ]
    },
    {
      "cell_type": "code",
      "metadata": {
        "id": "WLxlW9ufyQiO",
        "colab_type": "code",
        "outputId": "4f0d0b58-29f7-41f7-f9e9-344f3e85bc14",
        "colab": {
          "base_uri": "https://localhost:8080/",
          "height": 34
        }
      },
      "source": [
        "\n",
        "score = model.evaluate_generator(test_iterator, steps=len(test_iterator), verbose=0)\n",
        "print(score)"
      ],
      "execution_count": 83,
      "outputs": [
        {
          "output_type": "stream",
          "text": [
            "[0.09442473397254944, 0.9856]\n"
          ],
          "name": "stdout"
        }
      ]
    },
    {
      "cell_type": "code",
      "metadata": {
        "id": "m2qDl21ozBnW",
        "colab_type": "code",
        "outputId": "23bb75cf-6355-4ce6-809f-0ee6f9631f98",
        "colab": {
          "base_uri": "https://localhost:8080/",
          "height": 102
        }
      },
      "source": [
        "#Now, we have trained and stored our model. It’s time to reload it and test it with the 10000 test instances:\n",
        "\n",
        "from keras.models import load_model\n",
        "from keras.preprocessing.image import save_img\n",
        "from sklearn.metrics import classification_report, confusion_matrix\n",
        "\n",
        "#Load the best saved model and create predictions on the test set\n",
        "\n",
        "mnist_model = load_model(filepath)\n",
        "\n",
        "probabilities = mnist_model.predict_generator(test_iterator,steps=len(test_iterator))\n",
        "\n",
        "print(probabilities[0])\n",
        "y_pred = np.argmax(probabilities, axis=1)\n",
        "\n",
        "\n",
        "#See which we predicted correctly and which not\n",
        "\n",
        "correct_indices = np.nonzero(y_pred == y_test)[0] \n",
        "incorrect_indices = np.nonzero(y_pred != y_test)[0]\n",
        "print(len(correct_indices),\" classified correctly\") \n",
        "print(len(incorrect_indices),\" classified incorrectly\")\n",
        "\n",
        "\n",
        "\n"
      ],
      "execution_count": 91,
      "outputs": [
        {
          "output_type": "stream",
          "text": [
            "[1.08825986e-07 1.62815388e-06 1.00800162e-06 1.65427161e-06\n",
            " 1.25413435e-09 1.75381402e-07 3.85339809e-15 9.99994516e-01\n",
            " 2.65909890e-08 8.92129208e-07]\n",
            "9919  classified correctly\n",
            "81  classified incorrectly\n"
          ],
          "name": "stdout"
        }
      ]
    },
    {
      "cell_type": "markdown",
      "metadata": {
        "id": "70ZOHHF294BU",
        "colab_type": "text"
      },
      "source": [
        "###Observation\n",
        "As you can see, we have misclassified 81 instances out of 9919, In the next code block, we will analyze such cases where we detect false labels:"
      ]
    },
    {
      "cell_type": "code",
      "metadata": {
        "id": "cVf4q7Ey977S",
        "colab_type": "code",
        "outputId": "1b643c4a-6576-4827-da57-175449afb4c0",
        "colab": {
          "base_uri": "https://localhost:8080/",
          "height": 6717
        }
      },
      "source": [
        "# plot and save 25 images incorrect predictions to Drive\n",
        "\n",
        "\n",
        "for i, incorrect in enumerate(incorrect_indices[:25]):\n",
        "\n",
        "  filepath2=\"{}{}.{}\".format(F\"/content/gdrive/My Drive/Test/\",i,\".jpg\")\n",
        "  \n",
        "  print(filepath2)\n",
        "  \n",
        "  save_img(filepath2, X_test[incorrect])\n",
        "\n",
        "  plt.imshow(X_test[incorrect].reshape(28,28), cmap='gray', interpolation='none')\n",
        "\n",
        "  plt.title( \"Predicted {}, Truth: {}\".format(y_pred[incorrect], y_test[incorrect]))\n",
        "\n",
        "  plt.xticks([])\n",
        "\n",
        "  plt.yticks([])\n",
        "\n",
        "  plt.show()"
      ],
      "execution_count": 92,
      "outputs": [
        {
          "output_type": "stream",
          "text": [
            "/content/gdrive/My Drive/Test/0..jpg\n"
          ],
          "name": "stdout"
        },
        {
          "output_type": "display_data",
          "data": {
            "image/png": "[encoded data removed]",
            "text/plain": [
              "<Figure size 432x288 with 1 Axes>"
            ]
          },
          "metadata": {
            "tags": []
          }
        },
        {
          "output_type": "stream",
          "text": [
            "/content/gdrive/My Drive/Test/1..jpg\n"
          ],
          "name": "stdout"
        },
        {
          "output_type": "display_data",
          "data": {
            "image/png": "[encoded data removed]",
            "text/plain": [
              "<Figure size 432x288 with 1 Axes>"
            ]
          },
          "metadata": {
            "tags": []
          }
        },
        {
          "output_type": "stream",
          "text": [
            "/content/gdrive/My Drive/Test/2..jpg\n"
          ],
          "name": "stdout"
        },
        {
          "output_type": "display_data",
          "data": {
            "image/png": "[encoded data removed]",
            "text/plain": [
              "<Figure size 432x288 with 1 Axes>"
            ]
          },
          "metadata": {
            "tags": []
          }
        },
        {
          "output_type": "stream",
          "text": [
            "/content/gdrive/My Drive/Test/3..jpg\n"
          ],
          "name": "stdout"
        },
        {
          "output_type": "display_data",
          "data": {
            "image/png": "[encoded data removed]",
            "text/plain": [
              "<Figure size 432x288 with 1 Axes>"
            ]
          },
          "metadata": {
            "tags": []
          }
        },
        {
          "output_type": "stream",
          "text": [
            "/content/gdrive/My Drive/Test/4..jpg\n"
          ],
          "name": "stdout"
        },
        {
          "output_type": "display_data",
          "data": {
            "image/png": "[encoded data removed]",
            "text/plain": [
              "<Figure size 432x288 with 1 Axes>"
            ]
          },
          "metadata": {
            "tags": []
          }
        },
        {
          "output_type": "stream",
          "text": [
            "/content/gdrive/My Drive/Test/5..jpg\n"
          ],
          "name": "stdout"
        },
        {
          "output_type": "display_data",
          "data": {
            "image/png": "[encoded data removed]",
            "text/plain": [
              "<Figure size 432x288 with 1 Axes>"
            ]
          },
          "metadata": {
            "tags": []
          }
        },
        {
          "output_type": "stream",
          "text": [
            "/content/gdrive/My Drive/Test/6..jpg\n"
          ],
          "name": "stdout"
        },
        {
          "output_type": "display_data",
          "data": {
            "image/png": "[encoded data removed]",
            "text/plain": [
              "<Figure size 432x288 with 1 Axes>"
            ]
          },
          "metadata": {
            "tags": []
          }
        },
        {
          "output_type": "stream",
          "text": [
            "/content/gdrive/My Drive/Test/7..jpg\n"
          ],
          "name": "stdout"
        },
        {
          "output_type": "display_data",
          "data": {
            "image/png": "[encoded data removed]",
            "text/plain": [
              "<Figure size 432x288 with 1 Axes>"
            ]
          },
          "metadata": {
            "tags": []
          }
        },
        {
          "output_type": "stream",
          "text": [
            "/content/gdrive/My Drive/Test/8..jpg\n"
          ],
          "name": "stdout"
        },
        {
          "output_type": "display_data",
          "data": {
            "image/png": "[encoded data removed]",
            "text/plain": [
              "<Figure size 432x288 with 1 Axes>"
            ]
          },
          "metadata": {
            "tags": []
          }
        },
        {
          "output_type": "stream",
          "text": [
            "/content/gdrive/My Drive/Test/9..jpg\n"
          ],
          "name": "stdout"
        },
        {
          "output_type": "display_data",
          "data": {
            "image/png": "[encoded data removed]",
            "text/plain": [
              "<Figure size 432x288 with 1 Axes>"
            ]
          },
          "metadata": {
            "tags": []
          }
        },
        {
          "output_type": "stream",
          "text": [
            "/content/gdrive/My Drive/Test/10..jpg\n"
          ],
          "name": "stdout"
        },
        {
          "output_type": "display_data",
          "data": {
            "image/png": "[encoded data removed]",
            "text/plain": [
              "<Figure size 432x288 with 1 Axes>"
            ]
          },
          "metadata": {
            "tags": []
          }
        },
        {
          "output_type": "stream",
          "text": [
            "/content/gdrive/My Drive/Test/11..jpg\n"
          ],
          "name": "stdout"
        },
        {
          "output_type": "display_data",
          "data": {
            "image/png": "[encoded data removed]",
            "text/plain": [
              "<Figure size 432x288 with 1 Axes>"
            ]
          },
          "metadata": {
            "tags": []
          }
        },
        {
          "output_type": "stream",
          "text": [
            "/content/gdrive/My Drive/Test/12..jpg\n"
          ],
          "name": "stdout"
        },
        {
          "output_type": "display_data",
          "data": {
            "image/png": "[encoded data removed]",
            "text/plain": [
              "<Figure size 432x288 with 1 Axes>"
            ]
          },
          "metadata": {
            "tags": []
          }
        },
        {
          "output_type": "stream",
          "text": [
            "/content/gdrive/My Drive/Test/13..jpg\n"
          ],
          "name": "stdout"
        },
        {
          "output_type": "display_data",
          "data": {
            "image/png": "[encoded data removed]",
            "text/plain": [
              "<Figure size 432x288 with 1 Axes>"
            ]
          },
          "metadata": {
            "tags": []
          }
        },
        {
          "output_type": "stream",
          "text": [
            "/content/gdrive/My Drive/Test/14..jpg\n"
          ],
          "name": "stdout"
        },
        {
          "output_type": "display_data",
          "data": {
            "image/png": "[encoded data removed]",
            "text/plain": [
              "<Figure size 432x288 with 1 Axes>"
            ]
          },
          "metadata": {
            "tags": []
          }
        },
        {
          "output_type": "stream",
          "text": [
            "/content/gdrive/My Drive/Test/15..jpg\n"
          ],
          "name": "stdout"
        },
        {
          "output_type": "display_data",
          "data": {
            "image/png": "[encoded data removed]",
            "text/plain": [
              "<Figure size 432x288 with 1 Axes>"
            ]
          },
          "metadata": {
            "tags": []
          }
        },
        {
          "output_type": "stream",
          "text": [
            "/content/gdrive/My Drive/Test/16..jpg\n"
          ],
          "name": "stdout"
        },
        {
          "output_type": "display_data",
          "data": {
            "image/png": "[encoded data removed]",
            "text/plain": [
              "<Figure size 432x288 with 1 Axes>"
            ]
          },
          "metadata": {
            "tags": []
          }
        },
        {
          "output_type": "stream",
          "text": [
            "/content/gdrive/My Drive/Test/17..jpg\n"
          ],
          "name": "stdout"
        },
        {
          "output_type": "display_data",
          "data": {
            "image/png": "[encoded data removed]",
            "text/plain": [
              "<Figure size 432x288 with 1 Axes>"
            ]
          },
          "metadata": {
            "tags": []
          }
        },
        {
          "output_type": "stream",
          "text": [
            "/content/gdrive/My Drive/Test/18..jpg\n"
          ],
          "name": "stdout"
        },
        {
          "output_type": "display_data",
          "data": {
            "image/png": "[encoded data removed]",
            "text/plain": [
              "<Figure size 432x288 with 1 Axes>"
            ]
          },
          "metadata": {
            "tags": []
          }
        },
        {
          "output_type": "stream",
          "text": [
            "/content/gdrive/My Drive/Test/19..jpg\n"
          ],
          "name": "stdout"
        },
        {
          "output_type": "display_data",
          "data": {
            "image/png": "[encoded data removed]",
            "text/plain": [
              "<Figure size 432x288 with 1 Axes>"
            ]
          },
          "metadata": {
            "tags": []
          }
        },
        {
          "output_type": "stream",
          "text": [
            "/content/gdrive/My Drive/Test/20..jpg\n"
          ],
          "name": "stdout"
        },
        {
          "output_type": "display_data",
          "data": {
            "image/png": "[encoded data removed]",
            "text/plain": [
              "<Figure size 432x288 with 1 Axes>"
            ]
          },
          "metadata": {
            "tags": []
          }
        },
        {
          "output_type": "stream",
          "text": [
            "/content/gdrive/My Drive/Test/21..jpg\n"
          ],
          "name": "stdout"
        },
        {
          "output_type": "display_data",
          "data": {
            "image/png": "[encoded data removed]",
            "text/plain": [
              "<Figure size 432x288 with 1 Axes>"
            ]
          },
          "metadata": {
            "tags": []
          }
        },
        {
          "output_type": "stream",
          "text": [
            "/content/gdrive/My Drive/Test/22..jpg\n"
          ],
          "name": "stdout"
        },
        {
          "output_type": "display_data",
          "data": {
            "image/png": "[encoded data removed]",
            "text/plain": [
              "<Figure size 432x288 with 1 Axes>"
            ]
          },
          "metadata": {
            "tags": []
          }
        },
        {
          "output_type": "stream",
          "text": [
            "/content/gdrive/My Drive/Test/23..jpg\n"
          ],
          "name": "stdout"
        },
        {
          "output_type": "display_data",
          "data": {
            "image/png": "[encoded data removed]",
            "text/plain": [
              "<Figure size 432x288 with 1 Axes>"
            ]
          },
          "metadata": {
            "tags": []
          }
        },
        {
          "output_type": "stream",
          "text": [
            "/content/gdrive/My Drive/Test/24..jpg\n"
          ],
          "name": "stdout"
        },
        {
          "output_type": "display_data",
          "data": {
            "image/png": "[encoded data removed]",
            "text/plain": [
              "<Figure size 432x288 with 1 Axes>"
            ]
          },
          "metadata": {
            "tags": []
          }
        }
      ]
    }
  ]
}