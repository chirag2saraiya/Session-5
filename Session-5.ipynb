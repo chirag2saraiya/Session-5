{
  "nbformat": 4,
  "nbformat_minor": 0,
  "metadata": {
    "colab": {
      "name": "Copy of EIGHTH.ipynb",
      "version": "0.3.2",
      "provenance": [],
      "collapsed_sections": [],
      "include_colab_link": true
    },
    "kernelspec": {
      "name": "python3",
      "display_name": "Python 3"
    },
    "accelerator": "GPU"
  },
  "cells": [
    {
      "cell_type": "markdown",
      "metadata": {
        "id": "view-in-github",
        "colab_type": "text"
      },
      "source": [
        "<a href=\"https://colab.research.google.com/github/chirag2saraiya/Session-5/blob/master/Session-5.ipynb\" target=\"_parent\"><img src=\"https://colab.research.google.com/assets/colab-badge.svg\" alt=\"Open In Colab\"/></a>"
      ]
    },
    {
      "cell_type": "code",
      "metadata": {
        "id": "0SJyVpgSxHt4",
        "colab_type": "code",
        "colab": {}
      },
      "source": [
        "import numpy as np\n",
        "\n",
        "from keras.models import Sequential\n",
        "from keras.layers import Dense, Dropout, Activation, Flatten, Add, BatchNormalization\n",
        "from keras.layers import Convolution2D, MaxPooling2D\n",
        "from keras.utils import np_utils\n",
        "\n",
        "from keras.datasets import mnist\n",
        "from keras.preprocessing.image import ImageDataGenerator\n",
        "from keras.regularizers import l2\n",
        "\n"
      ],
      "execution_count": 0,
      "outputs": []
    },
    {
      "cell_type": "code",
      "metadata": {
        "id": "YlEUplvoxKAT",
        "colab_type": "code",
        "colab": {}
      },
      "source": [
        "(X_train, y_train), (X_test, y_test) = mnist.load_data()\n"
      ],
      "execution_count": 0,
      "outputs": []
    },
    {
      "cell_type": "code",
      "metadata": {
        "id": "I6Y9Va-xxMXG",
        "colab_type": "code",
        "outputId": "861cac92-f306-4a7d-b823-3c7d0c255709",
        "colab": {
          "base_uri": "https://localhost:8080/",
          "height": 303
        }
      },
      "source": [
        "print (X_train.shape)\n",
        "from matplotlib import pyplot as plt\n",
        "%matplotlib inline\n",
        "plt.imshow(X_train[1])"
      ],
      "execution_count": 39,
      "outputs": [
        {
          "output_type": "stream",
          "text": [
            "(60000, 28, 28)\n"
          ],
          "name": "stdout"
        },
        {
          "output_type": "execute_result",
          "data": {
            "text/plain": [
              "<matplotlib.image.AxesImage at 0x7fcfd9f790b8>"
            ]
          },
          "metadata": {
            "tags": []
          },
          "execution_count": 39
        },
        {
          "output_type": "display_data",
          "data": {
            "image/png": "[encoded data removed]",
            "text/plain": [
              "<Figure size 432x288 with 1 Axes>"
            ]
          },
          "metadata": {
            "tags": []
          }
        }
      ]
    },
    {
      "cell_type": "code",
      "metadata": {
        "id": "lxDZxPhhxOgO",
        "colab_type": "code",
        "colab": {}
      },
      "source": [
        "X_train = X_train.reshape(X_train.shape[0], 28, 28,1)\n",
        "X_test = X_test.reshape(X_test.shape[0], 28, 28,1)"
      ],
      "execution_count": 0,
      "outputs": []
    },
    {
      "cell_type": "code",
      "metadata": {
        "id": "3HzMqbTnxQQW",
        "colab_type": "code",
        "colab": {}
      },
      "source": [
        "X_train = X_train.astype('float32')\n",
        "X_test = X_test.astype('float32')\n",
        "X_train /= 255\n",
        "X_test /= 255"
      ],
      "execution_count": 0,
      "outputs": []
    },
    {
      "cell_type": "code",
      "metadata": {
        "id": "7LdYiW6ixR9e",
        "colab_type": "code",
        "colab": {}
      },
      "source": [
        "y_train[:10]\n",
        "Y_train = np_utils.to_categorical(y_train, 10)\n",
        "Y_test = np_utils.to_categorical(y_test, 10)"
      ],
      "execution_count": 0,
      "outputs": []
    },
    {
      "cell_type": "code",
      "metadata": {
        "id": "rFR0F9j0xVp2",
        "colab_type": "code",
        "outputId": "ab5b6832-fabb-4549-cc95-e4ffe467ba9c",
        "colab": {
          "base_uri": "https://localhost:8080/",
          "height": 187
        }
      },
      "source": [
        "Y_train[:10]"
      ],
      "execution_count": 43,
      "outputs": [
        {
          "output_type": "execute_result",
          "data": {
            "text/plain": [
              "array([[0., 0., 0., 0., 0., 1., 0., 0., 0., 0.],\n",
              "       [1., 0., 0., 0., 0., 0., 0., 0., 0., 0.],\n",
              "       [0., 0., 0., 0., 1., 0., 0., 0., 0., 0.],\n",
              "       [0., 1., 0., 0., 0., 0., 0., 0., 0., 0.],\n",
              "       [0., 0., 0., 0., 0., 0., 0., 0., 0., 1.],\n",
              "       [0., 0., 1., 0., 0., 0., 0., 0., 0., 0.],\n",
              "       [0., 1., 0., 0., 0., 0., 0., 0., 0., 0.],\n",
              "       [0., 0., 0., 1., 0., 0., 0., 0., 0., 0.],\n",
              "       [0., 1., 0., 0., 0., 0., 0., 0., 0., 0.],\n",
              "       [0., 0., 0., 0., 1., 0., 0., 0., 0., 0.]], dtype=float32)"
            ]
          },
          "metadata": {
            "tags": []
          },
          "execution_count": 43
        }
      ]
    },
    {
      "cell_type": "code",
      "metadata": {
        "id": "mDpXf4YQxXRm",
        "colab_type": "code",
        "outputId": "aaef6da9-c773-4bcb-8eb9-5ad0f6fa506c",
        "colab": {
          "base_uri": "https://localhost:8080/",
          "height": 1329
        }
      },
      "source": [
        "from keras.layers import Activation\n",
        "\n",
        "model = Sequential()\n",
        " \n",
        "model.add(Convolution2D(16, 3, 3, activation='relu', input_shape=(28,28,1))) #26 (3x3)\n",
        "model.add(BatchNormalization())\n",
        "model.add(Dropout(0.1))\n",
        "\n",
        "#Adding l2 reguralisation to each layer except last with hyper parameter value as 0.01\n",
        "\n",
        "model.add(Convolution2D(32, 3, 3,kernel_regularizer=l2(0.01), bias_regularizer=l2(0.01))) #24 (5x5)\n",
        "\n",
        "#Using activation after BatchNormalisation\n",
        "\n",
        "model.add(BatchNormalization())\n",
        "model.add(Activation('relu'))\n",
        "model.add(Dropout(0.1))\n",
        "\n",
        "model.add(Convolution2D(10, 1, 1)) #24 (5x5)\n",
        "\n",
        "model.add(MaxPooling2D(pool_size=(2, 2)))#12 (10x10)\n",
        "\n",
        "model.add(Convolution2D(16, 3, 3,kernel_regularizer=l2(0.01), bias_regularizer=l2(0.01)))#10 (12x12)\n",
        "model.add(BatchNormalization())\n",
        "model.add(Activation('relu'))\n",
        "model.add(Dropout(0.1))\n",
        "\n",
        "\n",
        "model.add(Convolution2D(16, 3, 3,kernel_regularizer=l2(0.01), bias_regularizer=l2(0.01)))#8 (14x14)\n",
        "model.add(BatchNormalization())\n",
        "model.add(Activation('relu'))\n",
        "model.add(Dropout(0.1))\n",
        "\n",
        "\n",
        "model.add(Convolution2D(16, 3, 3,kernel_regularizer=l2(0.01), bias_regularizer=l2(0.01)))#6 (16x16)\n",
        "model.add(BatchNormalization())\n",
        "model.add(Activation('relu'))\n",
        "model.add(Dropout(0.1))\n",
        "\n",
        "\n",
        "model.add(Convolution2D(16, 3, 3,kernel_regularizer=l2(0.01), bias_regularizer=l2(0.01)))#4 (18x18)\n",
        "model.add(BatchNormalization())\n",
        "model.add(Activation('relu'))\n",
        "model.add(Dropout(0.1))\n",
        "\n",
        "\n",
        "model.add(Convolution2D(10, 4, 4)) \n",
        "model.add(Dropout(0.1))\n",
        "\n",
        "\n",
        "model.add(Flatten())\n",
        "model.add(Activation('softmax'))\n",
        "\n",
        "\n",
        "model.summary()"
      ],
      "execution_count": 52,
      "outputs": [
        {
          "output_type": "stream",
          "text": [
            "/usr/local/lib/python3.6/dist-packages/ipykernel_launcher.py:5: UserWarning: Update your `Conv2D` call to the Keras 2 API: `Conv2D(16, (3, 3), activation=\"relu\", input_shape=(28, 28, 1...)`\n",
            "  \"\"\"\n",
            "/usr/local/lib/python3.6/dist-packages/ipykernel_launcher.py:9: UserWarning: Update your `Conv2D` call to the Keras 2 API: `Conv2D(32, (3, 3), kernel_regularizer=<keras.reg..., bias_regularizer=<keras.reg...)`\n",
            "  if __name__ == '__main__':\n",
            "/usr/local/lib/python3.6/dist-packages/ipykernel_launcher.py:14: UserWarning: Update your `Conv2D` call to the Keras 2 API: `Conv2D(10, (1, 1))`\n",
            "  \n",
            "/usr/local/lib/python3.6/dist-packages/ipykernel_launcher.py:18: UserWarning: Update your `Conv2D` call to the Keras 2 API: `Conv2D(16, (3, 3), kernel_regularizer=<keras.reg..., bias_regularizer=<keras.reg...)`\n",
            "/usr/local/lib/python3.6/dist-packages/ipykernel_launcher.py:24: UserWarning: Update your `Conv2D` call to the Keras 2 API: `Conv2D(16, (3, 3), kernel_regularizer=<keras.reg..., bias_regularizer=<keras.reg...)`\n",
            "/usr/local/lib/python3.6/dist-packages/ipykernel_launcher.py:30: UserWarning: Update your `Conv2D` call to the Keras 2 API: `Conv2D(16, (3, 3), kernel_regularizer=<keras.reg..., bias_regularizer=<keras.reg...)`\n",
            "/usr/local/lib/python3.6/dist-packages/ipykernel_launcher.py:36: UserWarning: Update your `Conv2D` call to the Keras 2 API: `Conv2D(16, (3, 3), kernel_regularizer=<keras.reg..., bias_regularizer=<keras.reg...)`\n"
          ],
          "name": "stderr"
        },
        {
          "output_type": "stream",
          "text": [
            "_________________________________________________________________\n",
            "Layer (type)                 Output Shape              Param #   \n",
            "=================================================================\n",
            "conv2d_50 (Conv2D)           (None, 26, 26, 16)        160       \n",
            "_________________________________________________________________\n",
            "batch_normalization_42 (Batc (None, 26, 26, 16)        64        \n",
            "_________________________________________________________________\n",
            "dropout_41 (Dropout)         (None, 26, 26, 16)        0         \n",
            "_________________________________________________________________\n",
            "conv2d_51 (Conv2D)           (None, 24, 24, 32)        4640      \n",
            "_________________________________________________________________\n",
            "batch_normalization_43 (Batc (None, 24, 24, 32)        128       \n",
            "_________________________________________________________________\n",
            "activation_33 (Activation)   (None, 24, 24, 32)        0         \n",
            "_________________________________________________________________\n",
            "dropout_42 (Dropout)         (None, 24, 24, 32)        0         \n",
            "_________________________________________________________________\n",
            "conv2d_52 (Conv2D)           (None, 24, 24, 10)        330       \n",
            "_________________________________________________________________\n",
            "max_pooling2d_7 (MaxPooling2 (None, 12, 12, 10)        0         \n",
            "_________________________________________________________________\n",
            "conv2d_53 (Conv2D)           (None, 10, 10, 16)        1456      \n",
            "_________________________________________________________________\n",
            "batch_normalization_44 (Batc (None, 10, 10, 16)        64        \n",
            "_________________________________________________________________\n",
            "activation_34 (Activation)   (None, 10, 10, 16)        0         \n",
            "_________________________________________________________________\n",
            "dropout_43 (Dropout)         (None, 10, 10, 16)        0         \n",
            "_________________________________________________________________\n",
            "conv2d_54 (Conv2D)           (None, 8, 8, 16)          2320      \n",
            "_________________________________________________________________\n",
            "batch_normalization_45 (Batc (None, 8, 8, 16)          64        \n",
            "_________________________________________________________________\n",
            "activation_35 (Activation)   (None, 8, 8, 16)          0         \n",
            "_________________________________________________________________\n",
            "dropout_44 (Dropout)         (None, 8, 8, 16)          0         \n",
            "_________________________________________________________________\n",
            "conv2d_55 (Conv2D)           (None, 6, 6, 16)          2320      \n",
            "_________________________________________________________________\n",
            "batch_normalization_46 (Batc (None, 6, 6, 16)          64        \n",
            "_________________________________________________________________\n",
            "activation_36 (Activation)   (None, 6, 6, 16)          0         \n",
            "_________________________________________________________________\n",
            "dropout_45 (Dropout)         (None, 6, 6, 16)          0         \n",
            "_________________________________________________________________\n",
            "conv2d_56 (Conv2D)           (None, 4, 4, 16)          2320      \n",
            "_________________________________________________________________\n",
            "batch_normalization_47 (Batc (None, 4, 4, 16)          64        \n",
            "_________________________________________________________________\n",
            "activation_37 (Activation)   (None, 4, 4, 16)          0         \n",
            "_________________________________________________________________\n",
            "dropout_46 (Dropout)         (None, 4, 4, 16)          0         \n",
            "_________________________________________________________________\n",
            "conv2d_57 (Conv2D)           (None, 1, 1, 10)          2570      \n",
            "_________________________________________________________________\n",
            "dropout_47 (Dropout)         (None, 1, 1, 10)          0         \n",
            "_________________________________________________________________\n",
            "flatten_6 (Flatten)          (None, 10)                0         \n",
            "_________________________________________________________________\n",
            "activation_38 (Activation)   (None, 10)                0         \n",
            "=================================================================\n",
            "Total params: 16,564\n",
            "Trainable params: 16,340\n",
            "Non-trainable params: 224\n",
            "_________________________________________________________________\n"
          ],
          "name": "stdout"
        },
        {
          "output_type": "stream",
          "text": [
            "/usr/local/lib/python3.6/dist-packages/ipykernel_launcher.py:42: UserWarning: Update your `Conv2D` call to the Keras 2 API: `Conv2D(10, (4, 4))`\n"
          ],
          "name": "stderr"
        }
      ]
    },
    {
      "cell_type": "code",
      "metadata": {
        "id": "X5VNzU8lzsVh",
        "colab_type": "code",
        "outputId": "8ac152c3-41f8-4aec-f3dd-292afcad7947",
        "colab": {
          "base_uri": "https://localhost:8080/",
          "height": 34
        }
      },
      "source": [
        "#Mounting google drive in colab to save model and misclassified image\n",
        "\n",
        "from google.colab import drive\n",
        "drive.mount('/content/gdrive')"
      ],
      "execution_count": 55,
      "outputs": [
        {
          "output_type": "stream",
          "text": [
            "Drive already mounted at /content/gdrive; to attempt to forcibly remount, call drive.mount(\"/content/gdrive\", force_remount=True).\n"
          ],
          "name": "stdout"
        }
      ]
    },
    {
      "cell_type": "code",
      "metadata": {
        "id": "L2IicGJ4x3Be",
        "colab_type": "code",
        "outputId": "0762f80b-6cff-42e3-d33f-324963705c33",
        "colab": {
          "base_uri": "https://localhost:8080/",
          "height": 2754
        }
      },
      "source": [
        "\n",
        "from keras.optimizers import Adam\n",
        "from keras.callbacks import LearningRateScheduler\n",
        "from keras.callbacks import ModelCheckpoint\n",
        "\n",
        "\n",
        "\n",
        "model.compile(loss='categorical_crossentropy', optimizer=Adam(lr=0.003), metrics=['accuracy'])\n",
        "\n",
        "#Adding Image augmentation\n",
        "image_gen = ImageDataGenerator(\n",
        "        rotation_range=15,\n",
        "        width_shift_range=0.1,\n",
        "        height_shift_range=0.1,\n",
        "        shear_range=0.5,\n",
        "        zoom_range=(0.9, 1.1),\n",
        "        horizontal_flip=False,\n",
        "        vertical_flip=False,\n",
        "        fill_mode='constant',\n",
        "        cval=0)\n",
        "\n",
        "\n",
        "image_gen.fit(X_train, augment=True)\n",
        "\n",
        "#We will save our trained best model on disk .. We will store the model in the HDF5 file format\n",
        "\n",
        "filepath=F\"/content/gdrive/My Drive/weights.best.hdf5\"\n",
        "\n",
        "#Saving a Keras checkpoint:\n",
        "#Keras provides a set of functions called callbacks: you can think of callbacks as events that will be triggered at certain training states. \n",
        "#The callback we need for checkpointing is the ModelCheckpoint which provides all the features we need according to the checkpointing strategy we adopted in our example.\n",
        "\n",
        "checkpoint = ModelCheckpoint(filepath, monitor='val_acc', verbose=1, save_best_only=True, mode='max')\n",
        "\n",
        "#Trains the model for a fixed number of epochs .\n",
        "model.fit_generator(image_gen.flow(X_train, Y_train, batch_size=128),\n",
        "          epochs=40,\n",
        "          steps_per_epoch=len(X_train)/(256),\n",
        "          verbose=1,\n",
        "          validation_data=(X_test, Y_test), callbacks=[checkpoint]\n",
        "          )\n",
        "\n"
      ],
      "execution_count": 54,
      "outputs": [
        {
          "output_type": "stream",
          "text": [
            "Epoch 1/40\n",
            "235/234 [==============================] - 20s 87ms/step - loss: 1.1961 - acc: 0.7440 - val_loss: 1.1821 - val_acc: 0.7049\n",
            "\n",
            "Epoch 00001: val_acc improved from -inf to 0.70490, saving model to /content/gdrive/My Drive/weights.best.hdf5\n",
            "Epoch 2/40\n",
            "235/234 [==============================] - 8s 35ms/step - loss: 0.4685 - acc: 0.8973 - val_loss: 0.3252 - val_acc: 0.9474\n",
            "\n",
            "Epoch 00002: val_acc improved from 0.70490 to 0.94740, saving model to /content/gdrive/My Drive/weights.best.hdf5\n",
            "Epoch 3/40\n",
            "235/234 [==============================] - 9s 36ms/step - loss: 0.4152 - acc: 0.9049 - val_loss: 0.2263 - val_acc: 0.9725\n",
            "\n",
            "Epoch 00003: val_acc improved from 0.94740 to 0.97250, saving model to /content/gdrive/My Drive/weights.best.hdf5\n",
            "Epoch 4/40\n",
            "235/234 [==============================] - 8s 35ms/step - loss: 0.3691 - acc: 0.9139 - val_loss: 0.2608 - val_acc: 0.9618\n",
            "\n",
            "Epoch 00004: val_acc did not improve from 0.97250\n",
            "Epoch 5/40\n",
            "235/234 [==============================] - 8s 35ms/step - loss: 0.3707 - acc: 0.9138 - val_loss: 0.2384 - val_acc: 0.9684\n",
            "\n",
            "Epoch 00005: val_acc did not improve from 0.97250\n",
            "Epoch 6/40\n",
            "235/234 [==============================] - 8s 35ms/step - loss: 0.3636 - acc: 0.9156 - val_loss: 0.2207 - val_acc: 0.9730\n",
            "\n",
            "Epoch 00006: val_acc improved from 0.97250 to 0.97300, saving model to /content/gdrive/My Drive/weights.best.hdf5\n",
            "Epoch 7/40\n",
            "235/234 [==============================] - 8s 35ms/step - loss: 0.3478 - acc: 0.9193 - val_loss: 0.2211 - val_acc: 0.9702\n",
            "\n",
            "Epoch 00007: val_acc did not improve from 0.97300\n",
            "Epoch 8/40\n",
            "235/234 [==============================] - 8s 35ms/step - loss: 0.3497 - acc: 0.9195 - val_loss: 0.1960 - val_acc: 0.9767\n",
            "\n",
            "Epoch 00008: val_acc improved from 0.97300 to 0.97670, saving model to /content/gdrive/My Drive/weights.best.hdf5\n",
            "Epoch 9/40\n",
            "235/234 [==============================] - 8s 35ms/step - loss: 0.3480 - acc: 0.9203 - val_loss: 0.2025 - val_acc: 0.9798\n",
            "\n",
            "Epoch 00009: val_acc improved from 0.97670 to 0.97980, saving model to /content/gdrive/My Drive/weights.best.hdf5\n",
            "Epoch 10/40\n",
            "235/234 [==============================] - 8s 36ms/step - loss: 0.3332 - acc: 0.9251 - val_loss: 0.2164 - val_acc: 0.9738\n",
            "\n",
            "Epoch 00010: val_acc did not improve from 0.97980\n",
            "Epoch 11/40\n",
            "235/234 [==============================] - 8s 35ms/step - loss: 0.3311 - acc: 0.9234 - val_loss: 0.3394 - val_acc: 0.9429\n",
            "\n",
            "Epoch 00011: val_acc did not improve from 0.97980\n",
            "Epoch 12/40\n",
            "235/234 [==============================] - 8s 35ms/step - loss: 0.3456 - acc: 0.9183 - val_loss: 0.1975 - val_acc: 0.9783\n",
            "\n",
            "Epoch 00012: val_acc did not improve from 0.97980\n",
            "Epoch 13/40\n",
            "235/234 [==============================] - 8s 35ms/step - loss: 0.3376 - acc: 0.9215 - val_loss: 0.2358 - val_acc: 0.9649\n",
            "\n",
            "Epoch 00013: val_acc did not improve from 0.97980\n",
            "Epoch 14/40\n",
            "235/234 [==============================] - 8s 35ms/step - loss: 0.3362 - acc: 0.9223 - val_loss: 0.2337 - val_acc: 0.9676\n",
            "\n",
            "Epoch 00014: val_acc did not improve from 0.97980\n",
            "Epoch 15/40\n",
            "235/234 [==============================] - 8s 35ms/step - loss: 0.3321 - acc: 0.9253 - val_loss: 0.2143 - val_acc: 0.9716\n",
            "\n",
            "Epoch 00015: val_acc did not improve from 0.97980\n",
            "Epoch 16/40\n",
            "235/234 [==============================] - 8s 35ms/step - loss: 0.3346 - acc: 0.9209 - val_loss: 0.2003 - val_acc: 0.9768\n",
            "\n",
            "Epoch 00016: val_acc did not improve from 0.97980\n",
            "Epoch 17/40\n",
            "235/234 [==============================] - 8s 36ms/step - loss: 0.3340 - acc: 0.9236 - val_loss: 0.2014 - val_acc: 0.9778\n",
            "\n",
            "Epoch 00017: val_acc did not improve from 0.97980\n",
            "Epoch 18/40\n",
            "235/234 [==============================] - 8s 36ms/step - loss: 0.3315 - acc: 0.9235 - val_loss: 0.2002 - val_acc: 0.9780\n",
            "\n",
            "Epoch 00018: val_acc did not improve from 0.97980\n",
            "Epoch 19/40\n",
            "235/234 [==============================] - 8s 36ms/step - loss: 0.3292 - acc: 0.9234 - val_loss: 0.2119 - val_acc: 0.9744\n",
            "\n",
            "Epoch 00019: val_acc did not improve from 0.97980\n",
            "Epoch 20/40\n",
            "235/234 [==============================] - 8s 36ms/step - loss: 0.3288 - acc: 0.9250 - val_loss: 0.2054 - val_acc: 0.9753\n",
            "\n",
            "Epoch 00020: val_acc did not improve from 0.97980\n",
            "Epoch 21/40\n",
            "235/234 [==============================] - 8s 35ms/step - loss: 0.3159 - acc: 0.9279 - val_loss: 0.1673 - val_acc: 0.9833\n",
            "\n",
            "Epoch 00021: val_acc improved from 0.97980 to 0.98330, saving model to /content/gdrive/My Drive/weights.best.hdf5\n",
            "Epoch 22/40\n",
            "235/234 [==============================] - 8s 35ms/step - loss: 0.3303 - acc: 0.9256 - val_loss: 0.2090 - val_acc: 0.9749\n",
            "\n",
            "Epoch 00022: val_acc did not improve from 0.98330\n",
            "Epoch 23/40\n",
            "235/234 [==============================] - 8s 35ms/step - loss: 0.3331 - acc: 0.9234 - val_loss: 0.2117 - val_acc: 0.9758\n",
            "\n",
            "Epoch 00023: val_acc did not improve from 0.98330\n",
            "Epoch 24/40\n",
            "235/234 [==============================] - 8s 35ms/step - loss: 0.3344 - acc: 0.9221 - val_loss: 0.2058 - val_acc: 0.9759\n",
            "\n",
            "Epoch 00024: val_acc did not improve from 0.98330\n",
            "Epoch 25/40\n",
            "235/234 [==============================] - 8s 35ms/step - loss: 0.3338 - acc: 0.9229 - val_loss: 0.2185 - val_acc: 0.9708\n",
            "\n",
            "Epoch 00025: val_acc did not improve from 0.98330\n",
            "Epoch 26/40\n",
            "235/234 [==============================] - 8s 36ms/step - loss: 0.3214 - acc: 0.9269 - val_loss: 0.1909 - val_acc: 0.9772\n",
            "\n",
            "Epoch 00026: val_acc did not improve from 0.98330\n",
            "Epoch 27/40\n",
            "235/234 [==============================] - 8s 36ms/step - loss: 0.3357 - acc: 0.9255 - val_loss: 0.2201 - val_acc: 0.9726\n",
            "\n",
            "Epoch 00027: val_acc did not improve from 0.98330\n",
            "Epoch 28/40\n",
            "235/234 [==============================] - 8s 36ms/step - loss: 0.3152 - acc: 0.9282 - val_loss: 0.2223 - val_acc: 0.9715\n",
            "\n",
            "Epoch 00028: val_acc did not improve from 0.98330\n",
            "Epoch 29/40\n",
            "235/234 [==============================] - 8s 35ms/step - loss: 0.3213 - acc: 0.9267 - val_loss: 0.2556 - val_acc: 0.9611\n",
            "\n",
            "Epoch 00029: val_acc did not improve from 0.98330\n",
            "Epoch 30/40\n",
            "235/234 [==============================] - 8s 35ms/step - loss: 0.3241 - acc: 0.9260 - val_loss: 0.2111 - val_acc: 0.9723\n",
            "\n",
            "Epoch 00030: val_acc did not improve from 0.98330\n",
            "Epoch 31/40\n",
            "235/234 [==============================] - 8s 36ms/step - loss: 0.3223 - acc: 0.9259 - val_loss: 0.1857 - val_acc: 0.9807\n",
            "\n",
            "Epoch 00031: val_acc did not improve from 0.98330\n",
            "Epoch 32/40\n",
            "235/234 [==============================] - 8s 35ms/step - loss: 0.3151 - acc: 0.9288 - val_loss: 0.2137 - val_acc: 0.9674\n",
            "\n",
            "Epoch 00032: val_acc did not improve from 0.98330\n",
            "Epoch 33/40\n",
            "235/234 [==============================] - 8s 35ms/step - loss: 0.3273 - acc: 0.9255 - val_loss: 0.1820 - val_acc: 0.9822\n",
            "\n",
            "Epoch 00033: val_acc did not improve from 0.98330\n",
            "Epoch 34/40\n",
            "235/234 [==============================] - 8s 35ms/step - loss: 0.3183 - acc: 0.9265 - val_loss: 0.1756 - val_acc: 0.9832\n",
            "\n",
            "Epoch 00034: val_acc did not improve from 0.98330\n",
            "Epoch 35/40\n",
            "235/234 [==============================] - 8s 35ms/step - loss: 0.3156 - acc: 0.9282 - val_loss: 0.1951 - val_acc: 0.9781\n",
            "\n",
            "Epoch 00035: val_acc did not improve from 0.98330\n",
            "Epoch 36/40\n",
            "235/234 [==============================] - 8s 35ms/step - loss: 0.3100 - acc: 0.9280 - val_loss: 0.1889 - val_acc: 0.9768\n",
            "\n",
            "Epoch 00036: val_acc did not improve from 0.98330\n",
            "Epoch 37/40\n",
            "235/234 [==============================] - 8s 36ms/step - loss: 0.3280 - acc: 0.9253 - val_loss: 0.1709 - val_acc: 0.9829\n",
            "\n",
            "Epoch 00037: val_acc did not improve from 0.98330\n",
            "Epoch 38/40\n",
            "235/234 [==============================] - 8s 36ms/step - loss: 0.3104 - acc: 0.9287 - val_loss: 0.1660 - val_acc: 0.9849\n",
            "\n",
            "Epoch 00038: val_acc improved from 0.98330 to 0.98490, saving model to /content/gdrive/My Drive/weights.best.hdf5\n",
            "Epoch 39/40\n",
            "235/234 [==============================] - 8s 36ms/step - loss: 0.3137 - acc: 0.9267 - val_loss: 0.2010 - val_acc: 0.9739\n",
            "\n",
            "Epoch 00039: val_acc did not improve from 0.98490\n",
            "Epoch 40/40\n",
            "235/234 [==============================] - 9s 36ms/step - loss: 0.3149 - acc: 0.9245 - val_loss: 0.1858 - val_acc: 0.9795\n",
            "\n",
            "Epoch 00040: val_acc did not improve from 0.98490\n"
          ],
          "name": "stdout"
        },
        {
          "output_type": "execute_result",
          "data": {
            "text/plain": [
              "<keras.callbacks.History at 0x7fcfd763a630>"
            ]
          },
          "metadata": {
            "tags": []
          },
          "execution_count": 54
        }
      ]
    },
    {
      "cell_type": "code",
      "metadata": {
        "id": "WLxlW9ufyQiO",
        "colab_type": "code",
        "outputId": "397018fc-cc26-419b-fcaa-820a4a7170d4",
        "colab": {
          "base_uri": "https://localhost:8080/",
          "height": 34
        }
      },
      "source": [
        "\n",
        "score = model.evaluate(X_test, Y_test, verbose=0)\n",
        "print(score)"
      ],
      "execution_count": 56,
      "outputs": [
        {
          "output_type": "stream",
          "text": [
            "[0.18576792271137238, 0.9795]\n"
          ],
          "name": "stdout"
        }
      ]
    },
    {
      "cell_type": "code",
      "metadata": {
        "id": "m2qDl21ozBnW",
        "colab_type": "code",
        "colab": {
          "base_uri": "https://localhost:8080/",
          "height": 51
        },
        "outputId": "c829eb27-8bfe-4ec5-e08d-d4c3e9857e4e"
      },
      "source": [
        "#Now, we have trained and stored our model. It’s time to reload it and test it with the 10000 test instances:\n",
        "\n",
        "from keras.models import load_model\n",
        "from keras.preprocessing.image import save_img\n",
        "\n",
        "#Load the best saved model and create predictions on the test set\n",
        "\n",
        "mnist_model = load_model(filepath)\n",
        "\n",
        "predicted_classes = model.predict_classes(X_test)\n",
        "\n",
        "#See which we predicted correctly and which not\n",
        "\n",
        "correct_indices = np.nonzero(predicted_classes == y_test)[0] \n",
        "incorrect_indices = np.nonzero(predicted_classes != y_test)[0]\n",
        "print(len(correct_indices),\" classified correctly\") \n",
        "print(len(incorrect_indices),\" classified incorrectly\")\n",
        "\n",
        "\n",
        "\n"
      ],
      "execution_count": 57,
      "outputs": [
        {
          "output_type": "stream",
          "text": [
            "9795  classified correctly\n",
            "205  classified incorrectly\n"
          ],
          "name": "stdout"
        }
      ]
    },
    {
      "cell_type": "markdown",
      "metadata": {
        "id": "70ZOHHF294BU",
        "colab_type": "text"
      },
      "source": [
        "###Observation\n",
        "As you can see, we have misclassified 205 instances out of 10000, In the next code block, we will analyze such cases where we detect false labels:"
      ]
    },
    {
      "cell_type": "code",
      "metadata": {
        "id": "cVf4q7Ey977S",
        "colab_type": "code",
        "colab": {
          "base_uri": "https://localhost:8080/",
          "height": 6717
        },
        "outputId": "3611d5c1-5012-4f5b-dc56-830dc8d253de"
      },
      "source": [
        "# plot and save 25 images incorrect predictions to Drive\n",
        "\n",
        "\n",
        "for i, incorrect in enumerate(incorrect_indices[:25]):\n",
        "\n",
        "  filepath2=\"{}{}.{}\".format(F\"/content/gdrive/My Drive/Test/\",i,\".jpg\")\n",
        "  \n",
        "  print(filepath2)\n",
        "  \n",
        "  save_img(filepath2, X_test[incorrect])\n",
        "\n",
        "  plt.imshow(X_test[incorrect].reshape(28,28), cmap='gray', interpolation='none')\n",
        "\n",
        "  plt.title( \"Predicted {}, Truth: {}\".format(predicted_classes[incorrect], y_test[incorrect]))\n",
        "\n",
        "  plt.xticks([])\n",
        "\n",
        "  plt.yticks([])\n",
        "\n",
        "  plt.show()"
      ],
      "execution_count": 60,
      "outputs": [
        {
          "output_type": "stream",
          "text": [
            "/content/gdrive/My Drive/Test/0..jpg\n"
          ],
          "name": "stdout"
        },
        {
          "output_type": "display_data",
          "data": {
            "image/png": "[encoded data removed]",
            "text/plain": [
              "<Figure size 432x288 with 1 Axes>"
            ]
          },
          "metadata": {
            "tags": []
          }
        },
        {
          "output_type": "stream",
          "text": [
            "/content/gdrive/My Drive/Test/1..jpg\n"
          ],
          "name": "stdout"
        },
        {
          "output_type": "display_data",
          "data": {
            "image/png": "[encoded data removed]",
            "text/plain": [
              "<Figure size 432x288 with 1 Axes>"
            ]
          },
          "metadata": {
            "tags": []
          }
        },
        {
          "output_type": "stream",
          "text": [
            "/content/gdrive/My Drive/Test/2..jpg\n"
          ],
          "name": "stdout"
        },
        {
          "output_type": "display_data",
          "data": {
            "image/png": "[encoded data removed]",
            "text/plain": [
              "<Figure size 432x288 with 1 Axes>"
            ]
          },
          "metadata": {
            "tags": []
          }
        },
        {
          "output_type": "stream",
          "text": [
            "/content/gdrive/My Drive/Test/3..jpg\n"
          ],
          "name": "stdout"
        },
        {
          "output_type": "display_data",
          "data": {
            "image/png": "[encoded data removed]",
            "text/plain": [
              "<Figure size 432x288 with 1 Axes>"
            ]
          },
          "metadata": {
            "tags": []
          }
        },
        {
          "output_type": "stream",
          "text": [
            "/content/gdrive/My Drive/Test/4..jpg\n"
          ],
          "name": "stdout"
        },
        {
          "output_type": "display_data",
          "data": {
            "image/png": "[encoded data removed]",
            "text/plain": [
              "<Figure size 432x288 with 1 Axes>"
            ]
          },
          "metadata": {
            "tags": []
          }
        },
        {
          "output_type": "stream",
          "text": [
            "/content/gdrive/My Drive/Test/5..jpg\n"
          ],
          "name": "stdout"
        },
        {
          "output_type": "display_data",
          "data": {
            "image/png": "[encoded data removed]",
            "text/plain": [
              "<Figure size 432x288 with 1 Axes>"
            ]
          },
          "metadata": {
            "tags": []
          }
        },
        {
          "output_type": "stream",
          "text": [
            "/content/gdrive/My Drive/Test/6..jpg\n"
          ],
          "name": "stdout"
        },
        {
          "output_type": "display_data",
          "data": {
            "image/png": "[encoded data removed]",
            "text/plain": [
              "<Figure size 432x288 with 1 Axes>"
            ]
          },
          "metadata": {
            "tags": []
          }
        },
        {
          "output_type": "stream",
          "text": [
            "/content/gdrive/My Drive/Test/7..jpg\n"
          ],
          "name": "stdout"
        },
        {
          "output_type": "display_data",
          "data": {
            "image/png": "[encoded data removed]",
            "text/plain": [
              "<Figure size 432x288 with 1 Axes>"
            ]
          },
          "metadata": {
            "tags": []
          }
        },
        {
          "output_type": "stream",
          "text": [
            "/content/gdrive/My Drive/Test/8..jpg\n"
          ],
          "name": "stdout"
        },
        {
          "output_type": "display_data",
          "data": {
            "image/png": "[encoded data removed]",
            "text/plain": [
              "<Figure size 432x288 with 1 Axes>"
            ]
          },
          "metadata": {
            "tags": []
          }
        },
        {
          "output_type": "stream",
          "text": [
            "/content/gdrive/My Drive/Test/9..jpg\n"
          ],
          "name": "stdout"
        },
        {
          "output_type": "display_data",
          "data": {
            "image/png": "[encoded data removed]",
            "text/plain": [
              "<Figure size 432x288 with 1 Axes>"
            ]
          },
          "metadata": {
            "tags": []
          }
        },
        {
          "output_type": "stream",
          "text": [
            "/content/gdrive/My Drive/Test/10..jpg\n"
          ],
          "name": "stdout"
        },
        {
          "output_type": "display_data",
          "data": {
            "image/png": "[encoded data removed]",
            "text/plain": [
              "<Figure size 432x288 with 1 Axes>"
            ]
          },
          "metadata": {
            "tags": []
          }
        },
        {
          "output_type": "stream",
          "text": [
            "/content/gdrive/My Drive/Test/11..jpg\n"
          ],
          "name": "stdout"
        },
        {
          "output_type": "display_data",
          "data": {
            "image/png": "[encoded data removed]",
            "text/plain": [
              "<Figure size 432x288 with 1 Axes>"
            ]
          },
          "metadata": {
            "tags": []
          }
        },
        {
          "output_type": "stream",
          "text": [
            "/content/gdrive/My Drive/Test/12..jpg\n"
          ],
          "name": "stdout"
        },
        {
          "output_type": "display_data",
          "data": {
            "image/png": "[encoded data removed]",
            "text/plain": [
              "<Figure size 432x288 with 1 Axes>"
            ]
          },
          "metadata": {
            "tags": []
          }
        },
        {
          "output_type": "stream",
          "text": [
            "/content/gdrive/My Drive/Test/13..jpg\n"
          ],
          "name": "stdout"
        },
        {
          "output_type": "display_data",
          "data": {
            "image/png": "[encoded data removed]",
            "text/plain": [
              "<Figure size 432x288 with 1 Axes>"
            ]
          },
          "metadata": {
            "tags": []
          }
        },
        {
          "output_type": "stream",
          "text": [
            "/content/gdrive/My Drive/Test/14..jpg\n"
          ],
          "name": "stdout"
        },
        {
          "output_type": "display_data",
          "data": {
            "image/png": "[encoded data removed]",
            "text/plain": [
              "<Figure size 432x288 with 1 Axes>"
            ]
          },
          "metadata": {
            "tags": []
          }
        },
        {
          "output_type": "stream",
          "text": [
            "/content/gdrive/My Drive/Test/15..jpg\n"
          ],
          "name": "stdout"
        },
        {
          "output_type": "display_data",
          "data": {
            "image/png": "[encoded data removed]",
            "text/plain": [
              "<Figure size 432x288 with 1 Axes>"
            ]
          },
          "metadata": {
            "tags": []
          }
        },
        {
          "output_type": "stream",
          "text": [
            "/content/gdrive/My Drive/Test/16..jpg\n"
          ],
          "name": "stdout"
        },
        {
          "output_type": "display_data",
          "data": {
            "image/png": "[encoded data removed]",
            "text/plain": [
              "<Figure size 432x288 with 1 Axes>"
            ]
          },
          "metadata": {
            "tags": []
          }
        },
        {
          "output_type": "stream",
          "text": [
            "/content/gdrive/My Drive/Test/17..jpg\n"
          ],
          "name": "stdout"
        },
        {
          "output_type": "display_data",
          "data": {
            "image/png": "[encoded data removed]",
            "text/plain": [
              "<Figure size 432x288 with 1 Axes>"
            ]
          },
          "metadata": {
            "tags": []
          }
        },
        {
          "output_type": "stream",
          "text": [
            "/content/gdrive/My Drive/Test/18..jpg\n"
          ],
          "name": "stdout"
        },
        {
          "output_type": "display_data",
          "data": {
            "image/png": "[encoded data removed]",
            "text/plain": [
              "<Figure size 432x288 with 1 Axes>"
            ]
          },
          "metadata": {
            "tags": []
          }
        },
        {
          "output_type": "stream",
          "text": [
            "/content/gdrive/My Drive/Test/19..jpg\n"
          ],
          "name": "stdout"
        },
        {
          "output_type": "display_data",
          "data": {
            "image/png": "[encoded data removed]",
            "text/plain": [
              "<Figure size 432x288 with 1 Axes>"
            ]
          },
          "metadata": {
            "tags": []
          }
        },
        {
          "output_type": "stream",
          "text": [
            "/content/gdrive/My Drive/Test/20..jpg\n"
          ],
          "name": "stdout"
        },
        {
          "output_type": "display_data",
          "data": {
            "image/png": "[encoded data removed]",
            "text/plain": [
              "<Figure size 432x288 with 1 Axes>"
            ]
          },
          "metadata": {
            "tags": []
          }
        },
        {
          "output_type": "stream",
          "text": [
            "/content/gdrive/My Drive/Test/21..jpg\n"
          ],
          "name": "stdout"
        },
        {
          "output_type": "display_data",
          "data": {
            "image/png": "[encoded data removed]",
            "text/plain": [
              "<Figure size 432x288 with 1 Axes>"
            ]
          },
          "metadata": {
            "tags": []
          }
        },
        {
          "output_type": "stream",
          "text": [
            "/content/gdrive/My Drive/Test/22..jpg\n"
          ],
          "name": "stdout"
        },
        {
          "output_type": "display_data",
          "data": {
            "image/png": "[encoded data removed]",
            "text/plain": [
              "<Figure size 432x288 with 1 Axes>"
            ]
          },
          "metadata": {
            "tags": []
          }
        },
        {
          "output_type": "stream",
          "text": [
            "/content/gdrive/My Drive/Test/23..jpg\n"
          ],
          "name": "stdout"
        },
        {
          "output_type": "display_data",
          "data": {
            "image/png": "[encoded data removed]",
            "text/plain": [
              "<Figure size 432x288 with 1 Axes>"
            ]
          },
          "metadata": {
            "tags": []
          }
        },
        {
          "output_type": "stream",
          "text": [
            "/content/gdrive/My Drive/Test/24..jpg\n"
          ],
          "name": "stdout"
        },
        {
          "output_type": "display_data",
          "data": {
            "image/png": "[encoded data removed]",
            "text/plain": [
              "<Figure size 432x288 with 1 Axes>"
            ]
          },
          "metadata": {
            "tags": []
          }
        }
      ]
    }
  ]
}